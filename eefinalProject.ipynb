{
 "cells": [
  {
   "cell_type": "code",
   "execution_count": 1,
   "metadata": {},
   "outputs": [],
   "source": [
    "import ee\n",
    "import folium\n",
    "import plotly.graph_objects as go\n",
    "import plotly.io as pio"
   ]
  },
  {
   "cell_type": "code",
   "execution_count": 4,
   "metadata": {},
   "outputs": [],
   "source": [
    "# Authenticate and initialize Earth Engine\n",
    "ee.Authenticate()\n",
    "ee.Initialize(project='eo4c-nicosherpa')"
   ]
  },
  {
   "cell_type": "markdown",
   "metadata": {},
   "source": [
    "#### General Functions and Data Loading"
   ]
  },
  {
   "cell_type": "code",
   "execution_count": null,
   "metadata": {},
   "outputs": [],
   "source": [
    "# Function to Mask Clouds and Cloud Shadows in Landsat 8 Imagery\n",
    "def cloudMask(image):\n",
    "    cloudShadowBitmask = (1 << 3)\n",
    "    cloudBitmask = (1 << 5)\n",
    "    qa = image.select('QA_PIXEL')\n",
    "    mask = qa.bitwiseAnd(cloudShadowBitmask).eq(0).And(qa.bitwiseAnd(cloudBitmask).eq(0))\n",
    "    return image.updateMask(mask)\n",
    "\n",
    "# Function to apply scaling factors for Landsat 8 imagery\n",
    "def applyScaleFactors(image):\n",
    "    opticalBands = image.select('SR_B.').multiply(0.0000275).add(-0.2)\n",
    "    thermalBands = image.select('ST_B.*').multiply(0.00341802).add(149.0)\n",
    "    return image.addBands(opticalBands, None, True).addBands(thermalBands, None, True)\n",
    "\n",
    "# Import and preprocess Landsat 8 imagery\n",
    "landsat8 = ee.ImageCollection(\"LANDSAT/LC08/C02/T1_L2\").map(applyScaleFactors).map(cloudMask)\n",
    "\n",
    "# Function to calculate the average LST for a given period\n",
    "def calculateAverageLST(startDate, endDate, area):\n",
    "    period = landsat8.filterBounds(area).filterDate(startDate, endDate).median().clip(area)\n",
    "    lst = period.select('ST_B10').subtract(273.15).rename('LST')\n",
    "    return lst"
   ]
  },
  {
   "cell_type": "markdown",
   "metadata": {},
   "source": [
    "#### Defining Location and Years"
   ]
  },
  {
   "cell_type": "code",
   "execution_count": 6,
   "metadata": {},
   "outputs": [],
   "source": [
    "# Define the coordinates for Portland, Oregon\n",
    "portland = ee.Geometry.Point([-122.6784, 45.5152])\n",
    "\n",
    "# Define bounding boxes around Portland and Scappoose\n",
    "portlandBBox = ee.Geometry.Rectangle([-123.0, 45.3, -122.3, 45.7])\n",
    "scappooseBBox = ee.Geometry.Rectangle([-123.1, 45.7, -122.7, 45.9])\n",
    "\n",
    "# Define example points within the Portland bounding box\n",
    "examplePoints = [\n",
    "    ee.Geometry.Point([-122.8057583, 45.486836]),  # Example Point 1\n",
    "    ee.Geometry.Point([-122.6589563, 45.5214872]),  # Example Point 2\n",
    "    ee.Geometry.Point([-122.5846527, 45.5555345])   # Example Point 3\n",
    "]"
   ]
  },
  {
   "cell_type": "code",
   "execution_count": null,
   "metadata": {},
   "outputs": [],
   "source": [
    "# Define the list of years to analyze\n",
    "years = list(range(2013, 2024))"
   ]
  },
  {
   "cell_type": "markdown",
   "metadata": {},
   "source": [
    "### Example Point Output and Averages of Portland and Scappoose over the years"
   ]
  },
  {
   "cell_type": "markdown",
   "metadata": {},
   "source": [
    "#### Example Point Map and Chart Output"
   ]
  },
  {
   "cell_type": "code",
   "execution_count": 12,
   "metadata": {},
   "outputs": [
    {
     "data": {
      "application/vnd.plotly.v1+json": {
       "config": {
        "plotlyServerURL": "https://plot.ly"
       },
       "data": [
        {
         "hovertemplate": "Example Point 1<br>Year: %{x}<br>LST: %{y:.2f} °C",
         "line": {
          "color": "red"
         },
         "marker": {
          "color": "red"
         },
         "mode": "lines+markers",
         "name": "",
         "type": "scatter",
         "x": [
          2013,
          2014,
          2015,
          2016,
          2017,
          2018,
          2019,
          2020,
          2021,
          2022,
          2023
         ],
         "y": [
          40.21916378000003,
          30.238545380000005,
          32.99688752000003,
          35.12973200000005,
          22.534328300000027,
          28.756833710000024,
          36.32262098000001,
          30.34963103000007,
          33.198550700000055,
          30.50515094000002,
          36.14488394000006
         ]
        },
        {
         "hovertemplate": "Example Point 2<br>Year: %{x}<br>LST: %{y:.2f} °C",
         "line": {
          "color": "green"
         },
         "marker": {
          "color": "green"
         },
         "mode": "lines+markers",
         "name": "",
         "type": "scatter",
         "x": [
          2013,
          2014,
          2015,
          2016,
          2017,
          2018,
          2019,
          2020,
          2021,
          2022,
          2023
         ],
         "y": [
          29.98561189999998,
          24.761168330000032,
          31.111849490000054,
          34.08894491000001,
          37.89491018000001,
          31.019562950000022,
          26.502649519999977,
          32.32011956000002,
          36.58580852,
          31.301549600000044,
          34.79305703000006
         ]
        },
        {
         "hovertemplate": "Example Point 3<br>Year: %{x}<br>LST: %{y:.2f} °C",
         "line": {
          "color": "blue"
         },
         "marker": {
          "color": "blue"
         },
         "mode": "lines+markers",
         "name": "",
         "type": "scatter",
         "x": [
          2013,
          2014,
          2015,
          2016,
          2017,
          2018,
          2019,
          2020,
          2021,
          2022,
          2023
         ],
         "y": [
          29.616465740000024,
          26.83761548000001,
          30.47438876000001,
          35.01693734000003,
          35.187838339999985,
          22.040424410000014,
          32.364553820000026,
          28.70385440000007,
          32.856748700000026,
          26.52657566000005,
          32.01591578
         ]
        }
       ],
       "layout": {
        "legend": {
         "title": {
          "text": "Example Points"
         }
        },
        "template": {
         "data": {
          "bar": [
           {
            "error_x": {
             "color": "#2a3f5f"
            },
            "error_y": {
             "color": "#2a3f5f"
            },
            "marker": {
             "line": {
              "color": "white",
              "width": 0.5
             },
             "pattern": {
              "fillmode": "overlay",
              "size": 10,
              "solidity": 0.2
             }
            },
            "type": "bar"
           }
          ],
          "barpolar": [
           {
            "marker": {
             "line": {
              "color": "white",
              "width": 0.5
             },
             "pattern": {
              "fillmode": "overlay",
              "size": 10,
              "solidity": 0.2
             }
            },
            "type": "barpolar"
           }
          ],
          "carpet": [
           {
            "aaxis": {
             "endlinecolor": "#2a3f5f",
             "gridcolor": "#C8D4E3",
             "linecolor": "#C8D4E3",
             "minorgridcolor": "#C8D4E3",
             "startlinecolor": "#2a3f5f"
            },
            "baxis": {
             "endlinecolor": "#2a3f5f",
             "gridcolor": "#C8D4E3",
             "linecolor": "#C8D4E3",
             "minorgridcolor": "#C8D4E3",
             "startlinecolor": "#2a3f5f"
            },
            "type": "carpet"
           }
          ],
          "choropleth": [
           {
            "colorbar": {
             "outlinewidth": 0,
             "ticks": ""
            },
            "type": "choropleth"
           }
          ],
          "contour": [
           {
            "colorbar": {
             "outlinewidth": 0,
             "ticks": ""
            },
            "colorscale": [
             [
              0,
              "#0d0887"
             ],
             [
              0.1111111111111111,
              "#46039f"
             ],
             [
              0.2222222222222222,
              "#7201a8"
             ],
             [
              0.3333333333333333,
              "#9c179e"
             ],
             [
              0.4444444444444444,
              "#bd3786"
             ],
             [
              0.5555555555555556,
              "#d8576b"
             ],
             [
              0.6666666666666666,
              "#ed7953"
             ],
             [
              0.7777777777777778,
              "#fb9f3a"
             ],
             [
              0.8888888888888888,
              "#fdca26"
             ],
             [
              1,
              "#f0f921"
             ]
            ],
            "type": "contour"
           }
          ],
          "contourcarpet": [
           {
            "colorbar": {
             "outlinewidth": 0,
             "ticks": ""
            },
            "type": "contourcarpet"
           }
          ],
          "heatmap": [
           {
            "colorbar": {
             "outlinewidth": 0,
             "ticks": ""
            },
            "colorscale": [
             [
              0,
              "#0d0887"
             ],
             [
              0.1111111111111111,
              "#46039f"
             ],
             [
              0.2222222222222222,
              "#7201a8"
             ],
             [
              0.3333333333333333,
              "#9c179e"
             ],
             [
              0.4444444444444444,
              "#bd3786"
             ],
             [
              0.5555555555555556,
              "#d8576b"
             ],
             [
              0.6666666666666666,
              "#ed7953"
             ],
             [
              0.7777777777777778,
              "#fb9f3a"
             ],
             [
              0.8888888888888888,
              "#fdca26"
             ],
             [
              1,
              "#f0f921"
             ]
            ],
            "type": "heatmap"
           }
          ],
          "heatmapgl": [
           {
            "colorbar": {
             "outlinewidth": 0,
             "ticks": ""
            },
            "colorscale": [
             [
              0,
              "#0d0887"
             ],
             [
              0.1111111111111111,
              "#46039f"
             ],
             [
              0.2222222222222222,
              "#7201a8"
             ],
             [
              0.3333333333333333,
              "#9c179e"
             ],
             [
              0.4444444444444444,
              "#bd3786"
             ],
             [
              0.5555555555555556,
              "#d8576b"
             ],
             [
              0.6666666666666666,
              "#ed7953"
             ],
             [
              0.7777777777777778,
              "#fb9f3a"
             ],
             [
              0.8888888888888888,
              "#fdca26"
             ],
             [
              1,
              "#f0f921"
             ]
            ],
            "type": "heatmapgl"
           }
          ],
          "histogram": [
           {
            "marker": {
             "pattern": {
              "fillmode": "overlay",
              "size": 10,
              "solidity": 0.2
             }
            },
            "type": "histogram"
           }
          ],
          "histogram2d": [
           {
            "colorbar": {
             "outlinewidth": 0,
             "ticks": ""
            },
            "colorscale": [
             [
              0,
              "#0d0887"
             ],
             [
              0.1111111111111111,
              "#46039f"
             ],
             [
              0.2222222222222222,
              "#7201a8"
             ],
             [
              0.3333333333333333,
              "#9c179e"
             ],
             [
              0.4444444444444444,
              "#bd3786"
             ],
             [
              0.5555555555555556,
              "#d8576b"
             ],
             [
              0.6666666666666666,
              "#ed7953"
             ],
             [
              0.7777777777777778,
              "#fb9f3a"
             ],
             [
              0.8888888888888888,
              "#fdca26"
             ],
             [
              1,
              "#f0f921"
             ]
            ],
            "type": "histogram2d"
           }
          ],
          "histogram2dcontour": [
           {
            "colorbar": {
             "outlinewidth": 0,
             "ticks": ""
            },
            "colorscale": [
             [
              0,
              "#0d0887"
             ],
             [
              0.1111111111111111,
              "#46039f"
             ],
             [
              0.2222222222222222,
              "#7201a8"
             ],
             [
              0.3333333333333333,
              "#9c179e"
             ],
             [
              0.4444444444444444,
              "#bd3786"
             ],
             [
              0.5555555555555556,
              "#d8576b"
             ],
             [
              0.6666666666666666,
              "#ed7953"
             ],
             [
              0.7777777777777778,
              "#fb9f3a"
             ],
             [
              0.8888888888888888,
              "#fdca26"
             ],
             [
              1,
              "#f0f921"
             ]
            ],
            "type": "histogram2dcontour"
           }
          ],
          "mesh3d": [
           {
            "colorbar": {
             "outlinewidth": 0,
             "ticks": ""
            },
            "type": "mesh3d"
           }
          ],
          "parcoords": [
           {
            "line": {
             "colorbar": {
              "outlinewidth": 0,
              "ticks": ""
             }
            },
            "type": "parcoords"
           }
          ],
          "pie": [
           {
            "automargin": true,
            "type": "pie"
           }
          ],
          "scatter": [
           {
            "fillpattern": {
             "fillmode": "overlay",
             "size": 10,
             "solidity": 0.2
            },
            "type": "scatter"
           }
          ],
          "scatter3d": [
           {
            "line": {
             "colorbar": {
              "outlinewidth": 0,
              "ticks": ""
             }
            },
            "marker": {
             "colorbar": {
              "outlinewidth": 0,
              "ticks": ""
             }
            },
            "type": "scatter3d"
           }
          ],
          "scattercarpet": [
           {
            "marker": {
             "colorbar": {
              "outlinewidth": 0,
              "ticks": ""
             }
            },
            "type": "scattercarpet"
           }
          ],
          "scattergeo": [
           {
            "marker": {
             "colorbar": {
              "outlinewidth": 0,
              "ticks": ""
             }
            },
            "type": "scattergeo"
           }
          ],
          "scattergl": [
           {
            "marker": {
             "colorbar": {
              "outlinewidth": 0,
              "ticks": ""
             }
            },
            "type": "scattergl"
           }
          ],
          "scattermapbox": [
           {
            "marker": {
             "colorbar": {
              "outlinewidth": 0,
              "ticks": ""
             }
            },
            "type": "scattermapbox"
           }
          ],
          "scatterpolar": [
           {
            "marker": {
             "colorbar": {
              "outlinewidth": 0,
              "ticks": ""
             }
            },
            "type": "scatterpolar"
           }
          ],
          "scatterpolargl": [
           {
            "marker": {
             "colorbar": {
              "outlinewidth": 0,
              "ticks": ""
             }
            },
            "type": "scatterpolargl"
           }
          ],
          "scatterternary": [
           {
            "marker": {
             "colorbar": {
              "outlinewidth": 0,
              "ticks": ""
             }
            },
            "type": "scatterternary"
           }
          ],
          "surface": [
           {
            "colorbar": {
             "outlinewidth": 0,
             "ticks": ""
            },
            "colorscale": [
             [
              0,
              "#0d0887"
             ],
             [
              0.1111111111111111,
              "#46039f"
             ],
             [
              0.2222222222222222,
              "#7201a8"
             ],
             [
              0.3333333333333333,
              "#9c179e"
             ],
             [
              0.4444444444444444,
              "#bd3786"
             ],
             [
              0.5555555555555556,
              "#d8576b"
             ],
             [
              0.6666666666666666,
              "#ed7953"
             ],
             [
              0.7777777777777778,
              "#fb9f3a"
             ],
             [
              0.8888888888888888,
              "#fdca26"
             ],
             [
              1,
              "#f0f921"
             ]
            ],
            "type": "surface"
           }
          ],
          "table": [
           {
            "cells": {
             "fill": {
              "color": "#EBF0F8"
             },
             "line": {
              "color": "white"
             }
            },
            "header": {
             "fill": {
              "color": "#C8D4E3"
             },
             "line": {
              "color": "white"
             }
            },
            "type": "table"
           }
          ]
         },
         "layout": {
          "annotationdefaults": {
           "arrowcolor": "#2a3f5f",
           "arrowhead": 0,
           "arrowwidth": 1
          },
          "autotypenumbers": "strict",
          "coloraxis": {
           "colorbar": {
            "outlinewidth": 0,
            "ticks": ""
           }
          },
          "colorscale": {
           "diverging": [
            [
             0,
             "#8e0152"
            ],
            [
             0.1,
             "#c51b7d"
            ],
            [
             0.2,
             "#de77ae"
            ],
            [
             0.3,
             "#f1b6da"
            ],
            [
             0.4,
             "#fde0ef"
            ],
            [
             0.5,
             "#f7f7f7"
            ],
            [
             0.6,
             "#e6f5d0"
            ],
            [
             0.7,
             "#b8e186"
            ],
            [
             0.8,
             "#7fbc41"
            ],
            [
             0.9,
             "#4d9221"
            ],
            [
             1,
             "#276419"
            ]
           ],
           "sequential": [
            [
             0,
             "#0d0887"
            ],
            [
             0.1111111111111111,
             "#46039f"
            ],
            [
             0.2222222222222222,
             "#7201a8"
            ],
            [
             0.3333333333333333,
             "#9c179e"
            ],
            [
             0.4444444444444444,
             "#bd3786"
            ],
            [
             0.5555555555555556,
             "#d8576b"
            ],
            [
             0.6666666666666666,
             "#ed7953"
            ],
            [
             0.7777777777777778,
             "#fb9f3a"
            ],
            [
             0.8888888888888888,
             "#fdca26"
            ],
            [
             1,
             "#f0f921"
            ]
           ],
           "sequentialminus": [
            [
             0,
             "#0d0887"
            ],
            [
             0.1111111111111111,
             "#46039f"
            ],
            [
             0.2222222222222222,
             "#7201a8"
            ],
            [
             0.3333333333333333,
             "#9c179e"
            ],
            [
             0.4444444444444444,
             "#bd3786"
            ],
            [
             0.5555555555555556,
             "#d8576b"
            ],
            [
             0.6666666666666666,
             "#ed7953"
            ],
            [
             0.7777777777777778,
             "#fb9f3a"
            ],
            [
             0.8888888888888888,
             "#fdca26"
            ],
            [
             1,
             "#f0f921"
            ]
           ]
          },
          "colorway": [
           "#636efa",
           "#EF553B",
           "#00cc96",
           "#ab63fa",
           "#FFA15A",
           "#19d3f3",
           "#FF6692",
           "#B6E880",
           "#FF97FF",
           "#FECB52"
          ],
          "font": {
           "color": "#2a3f5f"
          },
          "geo": {
           "bgcolor": "white",
           "lakecolor": "white",
           "landcolor": "white",
           "showlakes": true,
           "showland": true,
           "subunitcolor": "#C8D4E3"
          },
          "hoverlabel": {
           "align": "left"
          },
          "hovermode": "closest",
          "mapbox": {
           "style": "light"
          },
          "paper_bgcolor": "white",
          "plot_bgcolor": "white",
          "polar": {
           "angularaxis": {
            "gridcolor": "#EBF0F8",
            "linecolor": "#EBF0F8",
            "ticks": ""
           },
           "bgcolor": "white",
           "radialaxis": {
            "gridcolor": "#EBF0F8",
            "linecolor": "#EBF0F8",
            "ticks": ""
           }
          },
          "scene": {
           "xaxis": {
            "backgroundcolor": "white",
            "gridcolor": "#DFE8F3",
            "gridwidth": 2,
            "linecolor": "#EBF0F8",
            "showbackground": true,
            "ticks": "",
            "zerolinecolor": "#EBF0F8"
           },
           "yaxis": {
            "backgroundcolor": "white",
            "gridcolor": "#DFE8F3",
            "gridwidth": 2,
            "linecolor": "#EBF0F8",
            "showbackground": true,
            "ticks": "",
            "zerolinecolor": "#EBF0F8"
           },
           "zaxis": {
            "backgroundcolor": "white",
            "gridcolor": "#DFE8F3",
            "gridwidth": 2,
            "linecolor": "#EBF0F8",
            "showbackground": true,
            "ticks": "",
            "zerolinecolor": "#EBF0F8"
           }
          },
          "shapedefaults": {
           "line": {
            "color": "#2a3f5f"
           }
          },
          "ternary": {
           "aaxis": {
            "gridcolor": "#DFE8F3",
            "linecolor": "#A2B1C6",
            "ticks": ""
           },
           "baxis": {
            "gridcolor": "#DFE8F3",
            "linecolor": "#A2B1C6",
            "ticks": ""
           },
           "bgcolor": "white",
           "caxis": {
            "gridcolor": "#DFE8F3",
            "linecolor": "#A2B1C6",
            "ticks": ""
           }
          },
          "title": {
           "x": 0.05
          },
          "xaxis": {
           "automargin": true,
           "gridcolor": "#EBF0F8",
           "linecolor": "#EBF0F8",
           "ticks": "",
           "title": {
            "standoff": 15
           },
           "zerolinecolor": "#EBF0F8",
           "zerolinewidth": 2
          },
          "yaxis": {
           "automargin": true,
           "gridcolor": "#EBF0F8",
           "linecolor": "#EBF0F8",
           "ticks": "",
           "title": {
            "standoff": 15
           },
           "zerolinecolor": "#EBF0F8",
           "zerolinewidth": 2
          }
         }
        },
        "title": {
         "text": "LST Development Over Time for Example Points"
        },
        "xaxis": {
         "title": {
          "text": "Year"
         }
        },
        "yaxis": {
         "title": {
          "text": "LST (°C)"
         }
        }
       }
      }
     },
     "metadata": {},
     "output_type": "display_data"
    },
    {
     "data": {
      "application/vnd.plotly.v1+json": {
       "config": {
        "plotlyServerURL": "https://plot.ly"
       },
       "data": [
        {
         "hovertemplate": "Example Point 1<br>Year: %{x}<br>Difference: %{y:.2f} °C",
         "line": {
          "color": "red"
         },
         "marker": {
          "color": "red"
         },
         "mode": "lines+markers",
         "name": "",
         "type": "scatter",
         "x": [
          2013,
          2014,
          2015,
          2016,
          2017,
          2018,
          2019,
          2020,
          2021,
          2022,
          2023
         ],
         "y": [
          18.63716054879518,
          14.925514976909978,
          10.262095988470048,
          13.8987680707727,
          -1.0974502586600643,
          7.595053104977254,
          17.311278102472066,
          12.096854106174028,
          12.647382961996545,
          13.449813233135174,
          13.703606370095446
         ]
        },
        {
         "hovertemplate": "Example Point 2<br>Year: %{x}<br>Difference: %{y:.2f} °C",
         "line": {
          "color": "green"
         },
         "marker": {
          "color": "green"
         },
         "mode": "lines+markers",
         "name": "",
         "type": "scatter",
         "x": [
          2013,
          2014,
          2015,
          2016,
          2017,
          2018,
          2019,
          2020,
          2021,
          2022,
          2023
         ],
         "y": [
          8.40360866879513,
          9.448137926910006,
          8.377057958470072,
          12.857980980772663,
          14.26313162133992,
          9.857782344977252,
          7.491306642472033,
          14.067342636173983,
          16.03464078199649,
          14.246211893135197,
          12.351779460095447
         ]
        },
        {
         "hovertemplate": "Example Point 3<br>Year: %{x}<br>Difference: %{y:.2f} °C",
         "line": {
          "color": "blue"
         },
         "marker": {
          "color": "blue"
         },
         "mode": "lines+markers",
         "name": "",
         "type": "scatter",
         "x": [
          2013,
          2014,
          2015,
          2016,
          2017,
          2018,
          2019,
          2020,
          2021,
          2022,
          2023
         ],
         "y": [
          8.034462508795173,
          11.524585076909984,
          7.7395972284700285,
          13.78597341077268,
          11.556059781339894,
          0.8786438049772443,
          13.353210942472082,
          10.451077476174028,
          12.305580961996515,
          9.471237953135201,
          9.57463821009539
         ]
        }
       ],
       "layout": {
        "legend": {
         "title": {
          "text": "Example Points"
         }
        },
        "template": {
         "data": {
          "bar": [
           {
            "error_x": {
             "color": "#2a3f5f"
            },
            "error_y": {
             "color": "#2a3f5f"
            },
            "marker": {
             "line": {
              "color": "white",
              "width": 0.5
             },
             "pattern": {
              "fillmode": "overlay",
              "size": 10,
              "solidity": 0.2
             }
            },
            "type": "bar"
           }
          ],
          "barpolar": [
           {
            "marker": {
             "line": {
              "color": "white",
              "width": 0.5
             },
             "pattern": {
              "fillmode": "overlay",
              "size": 10,
              "solidity": 0.2
             }
            },
            "type": "barpolar"
           }
          ],
          "carpet": [
           {
            "aaxis": {
             "endlinecolor": "#2a3f5f",
             "gridcolor": "#C8D4E3",
             "linecolor": "#C8D4E3",
             "minorgridcolor": "#C8D4E3",
             "startlinecolor": "#2a3f5f"
            },
            "baxis": {
             "endlinecolor": "#2a3f5f",
             "gridcolor": "#C8D4E3",
             "linecolor": "#C8D4E3",
             "minorgridcolor": "#C8D4E3",
             "startlinecolor": "#2a3f5f"
            },
            "type": "carpet"
           }
          ],
          "choropleth": [
           {
            "colorbar": {
             "outlinewidth": 0,
             "ticks": ""
            },
            "type": "choropleth"
           }
          ],
          "contour": [
           {
            "colorbar": {
             "outlinewidth": 0,
             "ticks": ""
            },
            "colorscale": [
             [
              0,
              "#0d0887"
             ],
             [
              0.1111111111111111,
              "#46039f"
             ],
             [
              0.2222222222222222,
              "#7201a8"
             ],
             [
              0.3333333333333333,
              "#9c179e"
             ],
             [
              0.4444444444444444,
              "#bd3786"
             ],
             [
              0.5555555555555556,
              "#d8576b"
             ],
             [
              0.6666666666666666,
              "#ed7953"
             ],
             [
              0.7777777777777778,
              "#fb9f3a"
             ],
             [
              0.8888888888888888,
              "#fdca26"
             ],
             [
              1,
              "#f0f921"
             ]
            ],
            "type": "contour"
           }
          ],
          "contourcarpet": [
           {
            "colorbar": {
             "outlinewidth": 0,
             "ticks": ""
            },
            "type": "contourcarpet"
           }
          ],
          "heatmap": [
           {
            "colorbar": {
             "outlinewidth": 0,
             "ticks": ""
            },
            "colorscale": [
             [
              0,
              "#0d0887"
             ],
             [
              0.1111111111111111,
              "#46039f"
             ],
             [
              0.2222222222222222,
              "#7201a8"
             ],
             [
              0.3333333333333333,
              "#9c179e"
             ],
             [
              0.4444444444444444,
              "#bd3786"
             ],
             [
              0.5555555555555556,
              "#d8576b"
             ],
             [
              0.6666666666666666,
              "#ed7953"
             ],
             [
              0.7777777777777778,
              "#fb9f3a"
             ],
             [
              0.8888888888888888,
              "#fdca26"
             ],
             [
              1,
              "#f0f921"
             ]
            ],
            "type": "heatmap"
           }
          ],
          "heatmapgl": [
           {
            "colorbar": {
             "outlinewidth": 0,
             "ticks": ""
            },
            "colorscale": [
             [
              0,
              "#0d0887"
             ],
             [
              0.1111111111111111,
              "#46039f"
             ],
             [
              0.2222222222222222,
              "#7201a8"
             ],
             [
              0.3333333333333333,
              "#9c179e"
             ],
             [
              0.4444444444444444,
              "#bd3786"
             ],
             [
              0.5555555555555556,
              "#d8576b"
             ],
             [
              0.6666666666666666,
              "#ed7953"
             ],
             [
              0.7777777777777778,
              "#fb9f3a"
             ],
             [
              0.8888888888888888,
              "#fdca26"
             ],
             [
              1,
              "#f0f921"
             ]
            ],
            "type": "heatmapgl"
           }
          ],
          "histogram": [
           {
            "marker": {
             "pattern": {
              "fillmode": "overlay",
              "size": 10,
              "solidity": 0.2
             }
            },
            "type": "histogram"
           }
          ],
          "histogram2d": [
           {
            "colorbar": {
             "outlinewidth": 0,
             "ticks": ""
            },
            "colorscale": [
             [
              0,
              "#0d0887"
             ],
             [
              0.1111111111111111,
              "#46039f"
             ],
             [
              0.2222222222222222,
              "#7201a8"
             ],
             [
              0.3333333333333333,
              "#9c179e"
             ],
             [
              0.4444444444444444,
              "#bd3786"
             ],
             [
              0.5555555555555556,
              "#d8576b"
             ],
             [
              0.6666666666666666,
              "#ed7953"
             ],
             [
              0.7777777777777778,
              "#fb9f3a"
             ],
             [
              0.8888888888888888,
              "#fdca26"
             ],
             [
              1,
              "#f0f921"
             ]
            ],
            "type": "histogram2d"
           }
          ],
          "histogram2dcontour": [
           {
            "colorbar": {
             "outlinewidth": 0,
             "ticks": ""
            },
            "colorscale": [
             [
              0,
              "#0d0887"
             ],
             [
              0.1111111111111111,
              "#46039f"
             ],
             [
              0.2222222222222222,
              "#7201a8"
             ],
             [
              0.3333333333333333,
              "#9c179e"
             ],
             [
              0.4444444444444444,
              "#bd3786"
             ],
             [
              0.5555555555555556,
              "#d8576b"
             ],
             [
              0.6666666666666666,
              "#ed7953"
             ],
             [
              0.7777777777777778,
              "#fb9f3a"
             ],
             [
              0.8888888888888888,
              "#fdca26"
             ],
             [
              1,
              "#f0f921"
             ]
            ],
            "type": "histogram2dcontour"
           }
          ],
          "mesh3d": [
           {
            "colorbar": {
             "outlinewidth": 0,
             "ticks": ""
            },
            "type": "mesh3d"
           }
          ],
          "parcoords": [
           {
            "line": {
             "colorbar": {
              "outlinewidth": 0,
              "ticks": ""
             }
            },
            "type": "parcoords"
           }
          ],
          "pie": [
           {
            "automargin": true,
            "type": "pie"
           }
          ],
          "scatter": [
           {
            "fillpattern": {
             "fillmode": "overlay",
             "size": 10,
             "solidity": 0.2
            },
            "type": "scatter"
           }
          ],
          "scatter3d": [
           {
            "line": {
             "colorbar": {
              "outlinewidth": 0,
              "ticks": ""
             }
            },
            "marker": {
             "colorbar": {
              "outlinewidth": 0,
              "ticks": ""
             }
            },
            "type": "scatter3d"
           }
          ],
          "scattercarpet": [
           {
            "marker": {
             "colorbar": {
              "outlinewidth": 0,
              "ticks": ""
             }
            },
            "type": "scattercarpet"
           }
          ],
          "scattergeo": [
           {
            "marker": {
             "colorbar": {
              "outlinewidth": 0,
              "ticks": ""
             }
            },
            "type": "scattergeo"
           }
          ],
          "scattergl": [
           {
            "marker": {
             "colorbar": {
              "outlinewidth": 0,
              "ticks": ""
             }
            },
            "type": "scattergl"
           }
          ],
          "scattermapbox": [
           {
            "marker": {
             "colorbar": {
              "outlinewidth": 0,
              "ticks": ""
             }
            },
            "type": "scattermapbox"
           }
          ],
          "scatterpolar": [
           {
            "marker": {
             "colorbar": {
              "outlinewidth": 0,
              "ticks": ""
             }
            },
            "type": "scatterpolar"
           }
          ],
          "scatterpolargl": [
           {
            "marker": {
             "colorbar": {
              "outlinewidth": 0,
              "ticks": ""
             }
            },
            "type": "scatterpolargl"
           }
          ],
          "scatterternary": [
           {
            "marker": {
             "colorbar": {
              "outlinewidth": 0,
              "ticks": ""
             }
            },
            "type": "scatterternary"
           }
          ],
          "surface": [
           {
            "colorbar": {
             "outlinewidth": 0,
             "ticks": ""
            },
            "colorscale": [
             [
              0,
              "#0d0887"
             ],
             [
              0.1111111111111111,
              "#46039f"
             ],
             [
              0.2222222222222222,
              "#7201a8"
             ],
             [
              0.3333333333333333,
              "#9c179e"
             ],
             [
              0.4444444444444444,
              "#bd3786"
             ],
             [
              0.5555555555555556,
              "#d8576b"
             ],
             [
              0.6666666666666666,
              "#ed7953"
             ],
             [
              0.7777777777777778,
              "#fb9f3a"
             ],
             [
              0.8888888888888888,
              "#fdca26"
             ],
             [
              1,
              "#f0f921"
             ]
            ],
            "type": "surface"
           }
          ],
          "table": [
           {
            "cells": {
             "fill": {
              "color": "#EBF0F8"
             },
             "line": {
              "color": "white"
             }
            },
            "header": {
             "fill": {
              "color": "#C8D4E3"
             },
             "line": {
              "color": "white"
             }
            },
            "type": "table"
           }
          ]
         },
         "layout": {
          "annotationdefaults": {
           "arrowcolor": "#2a3f5f",
           "arrowhead": 0,
           "arrowwidth": 1
          },
          "autotypenumbers": "strict",
          "coloraxis": {
           "colorbar": {
            "outlinewidth": 0,
            "ticks": ""
           }
          },
          "colorscale": {
           "diverging": [
            [
             0,
             "#8e0152"
            ],
            [
             0.1,
             "#c51b7d"
            ],
            [
             0.2,
             "#de77ae"
            ],
            [
             0.3,
             "#f1b6da"
            ],
            [
             0.4,
             "#fde0ef"
            ],
            [
             0.5,
             "#f7f7f7"
            ],
            [
             0.6,
             "#e6f5d0"
            ],
            [
             0.7,
             "#b8e186"
            ],
            [
             0.8,
             "#7fbc41"
            ],
            [
             0.9,
             "#4d9221"
            ],
            [
             1,
             "#276419"
            ]
           ],
           "sequential": [
            [
             0,
             "#0d0887"
            ],
            [
             0.1111111111111111,
             "#46039f"
            ],
            [
             0.2222222222222222,
             "#7201a8"
            ],
            [
             0.3333333333333333,
             "#9c179e"
            ],
            [
             0.4444444444444444,
             "#bd3786"
            ],
            [
             0.5555555555555556,
             "#d8576b"
            ],
            [
             0.6666666666666666,
             "#ed7953"
            ],
            [
             0.7777777777777778,
             "#fb9f3a"
            ],
            [
             0.8888888888888888,
             "#fdca26"
            ],
            [
             1,
             "#f0f921"
            ]
           ],
           "sequentialminus": [
            [
             0,
             "#0d0887"
            ],
            [
             0.1111111111111111,
             "#46039f"
            ],
            [
             0.2222222222222222,
             "#7201a8"
            ],
            [
             0.3333333333333333,
             "#9c179e"
            ],
            [
             0.4444444444444444,
             "#bd3786"
            ],
            [
             0.5555555555555556,
             "#d8576b"
            ],
            [
             0.6666666666666666,
             "#ed7953"
            ],
            [
             0.7777777777777778,
             "#fb9f3a"
            ],
            [
             0.8888888888888888,
             "#fdca26"
            ],
            [
             1,
             "#f0f921"
            ]
           ]
          },
          "colorway": [
           "#636efa",
           "#EF553B",
           "#00cc96",
           "#ab63fa",
           "#FFA15A",
           "#19d3f3",
           "#FF6692",
           "#B6E880",
           "#FF97FF",
           "#FECB52"
          ],
          "font": {
           "color": "#2a3f5f"
          },
          "geo": {
           "bgcolor": "white",
           "lakecolor": "white",
           "landcolor": "white",
           "showlakes": true,
           "showland": true,
           "subunitcolor": "#C8D4E3"
          },
          "hoverlabel": {
           "align": "left"
          },
          "hovermode": "closest",
          "mapbox": {
           "style": "light"
          },
          "paper_bgcolor": "white",
          "plot_bgcolor": "white",
          "polar": {
           "angularaxis": {
            "gridcolor": "#EBF0F8",
            "linecolor": "#EBF0F8",
            "ticks": ""
           },
           "bgcolor": "white",
           "radialaxis": {
            "gridcolor": "#EBF0F8",
            "linecolor": "#EBF0F8",
            "ticks": ""
           }
          },
          "scene": {
           "xaxis": {
            "backgroundcolor": "white",
            "gridcolor": "#DFE8F3",
            "gridwidth": 2,
            "linecolor": "#EBF0F8",
            "showbackground": true,
            "ticks": "",
            "zerolinecolor": "#EBF0F8"
           },
           "yaxis": {
            "backgroundcolor": "white",
            "gridcolor": "#DFE8F3",
            "gridwidth": 2,
            "linecolor": "#EBF0F8",
            "showbackground": true,
            "ticks": "",
            "zerolinecolor": "#EBF0F8"
           },
           "zaxis": {
            "backgroundcolor": "white",
            "gridcolor": "#DFE8F3",
            "gridwidth": 2,
            "linecolor": "#EBF0F8",
            "showbackground": true,
            "ticks": "",
            "zerolinecolor": "#EBF0F8"
           }
          },
          "shapedefaults": {
           "line": {
            "color": "#2a3f5f"
           }
          },
          "ternary": {
           "aaxis": {
            "gridcolor": "#DFE8F3",
            "linecolor": "#A2B1C6",
            "ticks": ""
           },
           "baxis": {
            "gridcolor": "#DFE8F3",
            "linecolor": "#A2B1C6",
            "ticks": ""
           },
           "bgcolor": "white",
           "caxis": {
            "gridcolor": "#DFE8F3",
            "linecolor": "#A2B1C6",
            "ticks": ""
           }
          },
          "title": {
           "x": 0.05
          },
          "xaxis": {
           "automargin": true,
           "gridcolor": "#EBF0F8",
           "linecolor": "#EBF0F8",
           "ticks": "",
           "title": {
            "standoff": 15
           },
           "zerolinecolor": "#EBF0F8",
           "zerolinewidth": 2
          },
          "yaxis": {
           "automargin": true,
           "gridcolor": "#EBF0F8",
           "linecolor": "#EBF0F8",
           "ticks": "",
           "title": {
            "standoff": 15
           },
           "zerolinecolor": "#EBF0F8",
           "zerolinewidth": 2
          }
         }
        },
        "title": {
         "text": "LST Difference from Scappoose Average Over Time for Example Points"
        },
        "xaxis": {
         "title": {
          "text": "Year"
         }
        },
        "yaxis": {
         "title": {
          "text": "Difference (°C)"
         }
        }
       }
      }
     },
     "metadata": {},
     "output_type": "display_data"
    }
   ],
   "source": [
    "# Colors for the example points\n",
    "colors = ['red', 'green', 'blue']\n",
    "\n",
    "# Calculate average yearly LST for Scappoose\n",
    "scappoose_avg_lst = {}\n",
    "for year in years:\n",
    "    startDate = ee.Date.fromYMD(year, 1, 1)\n",
    "    endDate = ee.Date.fromYMD(year, 12, 31)\n",
    "    scappooseLST = calculateAverageLST(startDate.format('YYYY-MM-dd').getInfo(), endDate.format('YYYY-MM-dd').getInfo(), scappooseBBox)\n",
    "    scappooseMeanLST = scappooseLST.reduceRegion(\n",
    "        reducer=ee.Reducer.mean(),\n",
    "        geometry=scappooseBBox,\n",
    "        scale=30,\n",
    "        maxPixels=1e9\n",
    "    ).get('LST').getInfo()\n",
    "    scappoose_avg_lst[year] = scappooseMeanLST\n",
    "\n",
    "# Create an interactive chart for LST values\n",
    "fig1 = go.Figure()\n",
    "# Create an interactive chart for LST differences\n",
    "fig2 = go.Figure()\n",
    "\n",
    "for index, (point, color) in enumerate(zip(examplePoints, colors)):\n",
    "    pixelValues = []\n",
    "    differences = []\n",
    "    for year in years:\n",
    "        startDate = ee.Date.fromYMD(year, 1, 1)\n",
    "        endDate = ee.Date.fromYMD(year, 12, 31)\n",
    "        pixelLST = calculateAverageLST(startDate.format('YYYY-MM-dd').getInfo(), endDate.format('YYYY-MM-dd').getInfo(), point)\n",
    "        value = pixelLST.reduceRegion(\n",
    "            reducer=ee.Reducer.mean(),\n",
    "            geometry=point,\n",
    "            scale=30,\n",
    "            maxPixels=1e9\n",
    "        ).get('LST').getInfo()\n",
    "        pixelValues.append([year, value])\n",
    "        differences.append([year, value - scappoose_avg_lst[year]])\n",
    "    \n",
    "    years_list = [pv[0] for pv in pixelValues]\n",
    "    lst_list = [pv[1] for pv in pixelValues]\n",
    "    diff_list = [df[1] for df in differences]\n",
    "    \n",
    "    fig1.add_trace(go.Scatter(\n",
    "        x=years_list, \n",
    "        y=lst_list, \n",
    "        mode='lines+markers', \n",
    "        name=f'', \n",
    "        line=dict(color=color),\n",
    "        marker=dict(color=color),\n",
    "        hovertemplate='Example Point ' + str(index + 1) + '<br>Year: %{x}<br>LST: %{y:.2f} °C'\n",
    "    ))\n",
    "\n",
    "    fig2.add_trace(go.Scatter(\n",
    "        x=years_list, \n",
    "        y=diff_list, \n",
    "        mode='lines+markers', \n",
    "        name=f'', \n",
    "        line=dict(color=color),\n",
    "        marker=dict(color=color),\n",
    "        hovertemplate='Example Point ' + str(index + 1) + '<br>Year: %{x}<br>Difference: %{y:.2f} °C'\n",
    "    ))\n",
    "\n",
    "\n",
    "fig1.update_layout(\n",
    "    title='LST Development Over Time for Example Points',\n",
    "    xaxis_title='Year',\n",
    "    yaxis_title='LST (°C)',\n",
    "    legend_title='Example Points',\n",
    "    template='plotly_white'\n",
    ")\n",
    "\n",
    "fig2.update_layout(\n",
    "    title='LST Difference from Scappoose Average Over Time for Example Points',\n",
    "    xaxis_title='Year',\n",
    "    yaxis_title='Difference (°C)',\n",
    "    legend_title='Example Points',\n",
    "    template='plotly_white'\n",
    ")\n",
    "\n",
    "# Show the charts\n",
    "fig1.show()\n",
    "fig2.show()\n",
    "\n",
    "# Save the interactive charts as HTML files\n",
    "pio.write_html(fig1, file='examplePoints/LST_Development_Chart.html', auto_open=True)\n",
    "pio.write_html(fig2, file='examplePoints/LST_Difference_Chart.html', auto_open=True)\n",
    "\n",
    "# Create a map to show the example points\n",
    "m = folium.Map(location=[45.5152, -122.6784], zoom_start=10)\n",
    "\n",
    "# Add example points to the map\n",
    "for index, point in enumerate(examplePoints):\n",
    "    folium.Marker(\n",
    "        location=[point.coordinates().get(1).getInfo(), point.coordinates().get(0).getInfo()],\n",
    "        popup=f'Point {index + 1}',\n",
    "        icon=folium.Icon(color=colors[index])\n",
    "    ).add_to(m)\n",
    "\n",
    "# Save the map as an HTML file\n",
    "m.save('examplePoints/Example_Points_Map.html')\n"
   ]
  },
  {
   "cell_type": "markdown",
   "metadata": {},
   "source": [
    "#### Printout of Average Portland and Scappoose values"
   ]
  },
  {
   "cell_type": "code",
   "execution_count": 8,
   "metadata": {},
   "outputs": [
    {
     "name": "stdout",
     "output_type": "stream",
     "text": [
      "Year: 2013\n",
      "Average LST for Portland in 2013 : 24.294163099782775\n",
      "Average LST for Scappoose in 2013 : 21.58200323120485\n",
      "Year: 2014\n",
      "Average LST for Portland in 2014 : 22.53575519252868\n",
      "Average LST for Scappoose in 2014 : 15.313030403090027\n",
      "Year: 2015\n",
      "Average LST for Portland in 2015 : 26.7173193996444\n",
      "Average LST for Scappoose in 2015 : 22.734791531529982\n",
      "Year: 2016\n",
      "Average LST for Portland in 2016 : 25.383447676305153\n",
      "Average LST for Scappoose in 2016 : 21.230963929227347\n",
      "Year: 2017\n",
      "Average LST for Portland in 2017 : 24.648463657535988\n",
      "Average LST for Scappoose in 2017 : 23.63177855866009\n",
      "Year: 2018\n",
      "Average LST for Portland in 2018 : 23.015259866682992\n",
      "Average LST for Scappoose in 2018 : 21.16178060502277\n",
      "Year: 2019\n",
      "Average LST for Portland in 2019 : 24.087193729283456\n",
      "Average LST for Scappoose in 2019 : 19.011342877527944\n",
      "Year: 2020\n",
      "Average LST for Portland in 2020 : 21.341494285625814\n",
      "Average LST for Scappoose in 2020 : 18.25277692382604\n",
      "Year: 2021\n",
      "Average LST for Portland in 2021 : 27.98106957070979\n",
      "Average LST for Scappoose in 2021 : 20.55116773800351\n",
      "Year: 2022\n",
      "Average LST for Portland in 2022 : 24.59234750415318\n",
      "Average LST for Scappoose in 2022 : 17.055337706864847\n",
      "Year: 2023\n",
      "Average LST for Portland in 2023 : 28.3588564556658\n",
      "Average LST for Scappoose in 2023 : 22.44127756990461\n"
     ]
    }
   ],
   "source": [
    "# Calculate and display LST changes and print average LST for Portland and Scappoose\n",
    "for year in years:\n",
    "    startDate = ee.Date.fromYMD(year, 1, 1)\n",
    "    endDate = ee.Date.fromYMD(year, 12, 31)\n",
    "\n",
    "    # Calculate average LST for Scappoose\n",
    "    scappooseLST = calculateAverageLST(startDate.format('YYYY-MM-dd').getInfo(), endDate.format('YYYY-MM-dd').getInfo(), scappooseBBox)\n",
    "    scappooseMeanLST = scappooseLST.reduceRegion(\n",
    "        reducer=ee.Reducer.mean(),\n",
    "        geometry=scappooseBBox,\n",
    "        scale=30,\n",
    "        maxPixels=1e9\n",
    "    ).get('LST').getInfo()\n",
    "\n",
    "    # Calculate average LST for Portland\n",
    "    portlandLST = calculateAverageLST(startDate.format('YYYY-MM-dd').getInfo(), endDate.format('YYYY-MM-dd').getInfo(), portlandBBox)\n",
    "    portlandMeanLST = portlandLST.reduceRegion(\n",
    "        reducer=ee.Reducer.mean(),\n",
    "        geometry=portlandBBox,\n",
    "        scale=30,\n",
    "        maxPixels=1e9\n",
    "    ).get('LST').getInfo()\n",
    "\n",
    "    # Print the average LST for both Portland and Scappoose for each year\n",
    "    print('Year:', year)\n",
    "    print('Average LST for Portland in', year, ':', portlandMeanLST)\n",
    "    print('Average LST for Scappoose in', year, ':', scappooseMeanLST)\n"
   ]
  },
  {
   "cell_type": "markdown",
   "metadata": {},
   "source": [
    "### Map Outputs"
   ]
  },
  {
   "cell_type": "markdown",
   "metadata": {},
   "source": [
    "#### City and Suburb Boxes"
   ]
  },
  {
   "cell_type": "code",
   "execution_count": 15,
   "metadata": {},
   "outputs": [],
   "source": [
    "# Create a folium map centered on Portland\n",
    "map_center = [45.5152, -122.6784]\n",
    "m = folium.Map(location=map_center, zoom_start=10)\n",
    "\n",
    "# Function to add bounding boxes to the folium map\n",
    "def add_bounding_box(map_object, bbox, color, name):\n",
    "    folium.GeoJson(\n",
    "        bbox.getInfo(),\n",
    "        style_function=lambda feature: {\n",
    "            'color': color,\n",
    "            'weight': 2,\n",
    "            'fillOpacity': 0\n",
    "        },\n",
    "        name=name\n",
    "    ).add_to(map_object)\n",
    "\n",
    "# Add the bounding boxes to the map\n",
    "add_bounding_box(m, portlandBBox, 'blue', 'Portland Bounding Box')\n",
    "add_bounding_box(m, scappooseBBox, 'green', 'Scappoose Bounding Box')\n",
    "\n",
    "# Add layer control to the map\n",
    "folium.LayerControl().add_to(m)\n",
    "\n",
    "# Save the map as an HTML file\n",
    "m.save('mapLST/Bounding_Boxes_Map.html')"
   ]
  },
  {
   "cell_type": "markdown",
   "metadata": {},
   "source": [
    "#### Map Output Yearly Average"
   ]
  },
  {
   "cell_type": "code",
   "execution_count": 13,
   "metadata": {},
   "outputs": [],
   "source": [
    "# Create a folium map centered on Portland\n",
    "map_center = [45.5152, -122.6784]\n",
    "m = folium.Map(location=map_center, zoom_start=10)\n",
    "\n",
    "# Function to add Earth Engine layer to the folium map\n",
    "def add_ee_layer(map_object, ee_image_object, vis_params, name):\n",
    "    map_id_dict = ee.Image(ee_image_object).getMapId(vis_params)\n",
    "    folium.TileLayer(\n",
    "        tiles=map_id_dict['tile_fetcher'].url_format,\n",
    "        attr='Map Data © <a href=\"https://earthengine.google.com/\">Google Earth Engine</a>',\n",
    "        name=name,\n",
    "        overlay=True,\n",
    "        control=True\n",
    "    ).add_to(map_object)\n",
    "\n",
    "# Loop through each year to calculate and display LST changes\n",
    "for year in years:\n",
    "    startDate = ee.Date.fromYMD(year, 1, 1)\n",
    "    endDate = ee.Date.fromYMD(year, 12, 31)\n",
    "\n",
    "    # Calculate average LST for Scappoose\n",
    "    scappooseLST = calculateAverageLST(startDate.format('YYYY-MM-dd').getInfo(), endDate.format('YYYY-MM-dd').getInfo(), scappooseBBox)\n",
    "    scappooseMeanLST = scappooseLST.reduceRegion(\n",
    "        reducer=ee.Reducer.mean(),\n",
    "        geometry=scappooseBBox,\n",
    "        scale=30,\n",
    "        maxPixels=1e9\n",
    "    ).get('LST').getInfo()\n",
    "\n",
    "    # Calculate average LST for Portland\n",
    "    portlandLST = calculateAverageLST(startDate.format('YYYY-MM-dd').getInfo(), endDate.format('YYYY-MM-dd').getInfo(), portlandBBox)\n",
    "    portlandMeanLST = portlandLST.reduceRegion(\n",
    "        reducer=ee.Reducer.mean(),\n",
    "        geometry=portlandBBox,\n",
    "        scale=30,\n",
    "        maxPixels=1e9\n",
    "    ).get('LST').getInfo()\n",
    "\n",
    "    # Calculate deviations from the Scappoose mean\n",
    "    deviation = portlandLST.subtract(scappooseMeanLST)\n",
    "\n",
    "    # Visualization parameters for deviations\n",
    "    visParams = {\n",
    "        'min': -20,\n",
    "        'max': 20,\n",
    "        'palette': [\n",
    "            '0000FF', '5050FF', 'A0A0FF', 'FFFFFF', 'FFA0A0', 'FF5050', 'FF0000'\n",
    "        ]\n",
    "    }\n",
    "\n",
    "    # Add the deviation layer to the map\n",
    "    add_ee_layer(m, deviation, visParams, 'LST Deviation ' + str(year))\n",
    "\n",
    "# Add layer control to the map\n",
    "folium.LayerControl().add_to(m)\n",
    "\n",
    "# Save the map as an HTML file\n",
    "m.save('mapLST/LST_Deviation_Map.html')"
   ]
  },
  {
   "cell_type": "markdown",
   "metadata": {},
   "source": [
    "#### Map Output Monthly Average"
   ]
  },
  {
   "cell_type": "code",
   "execution_count": 14,
   "metadata": {},
   "outputs": [],
   "source": [
    "# Function to calculate the average LST for a given month across multiple years\n",
    "def calculateMonthlyAverageLST(month, startYear, endYear, area):\n",
    "    monthlyLST = ee.ImageCollection(landsat8.filter(ee.Filter.calendarRange(month, month, 'month'))\n",
    "        .filter(ee.Filter.calendarRange(startYear, endYear, 'year'))\n",
    "        .filterBounds(area)\n",
    "        .median()\n",
    "        .clip(area)\n",
    "        .select('ST_B10')\n",
    "        .subtract(273.15)\n",
    "        .rename('LST'))\n",
    "    \n",
    "    return monthlyLST.mean()\n",
    "\n",
    "# Define the list of months to analyze\n",
    "months = list(range(1, 13))\n",
    "\n",
    "# Create a folium map centered on Portland\n",
    "map_center = [45.5152, -122.6784]\n",
    "m = folium.Map(location=map_center, zoom_start=10)\n",
    "\n",
    "# Function to add Earth Engine layer to the folium map\n",
    "def add_ee_layer(map_object, ee_image_object, vis_params, name):\n",
    "    map_id_dict = ee.Image(ee_image_object).getMapId(vis_params)\n",
    "    folium.TileLayer(\n",
    "        tiles=map_id_dict['tile_fetcher'].url_format,\n",
    "        attr='Map Data © <a href=\"https://earthengine.google.com/\">Google Earth Engine</a>',\n",
    "        name=name,\n",
    "        overlay=True,\n",
    "        control=True\n",
    "    ).add_to(map_object)\n",
    "\n",
    "# Loop through each month to calculate and display LST changes\n",
    "for month in months:\n",
    "    # Calculate average LST for Scappoose for the month\n",
    "    scappooseLST = calculateMonthlyAverageLST(month, 2013, 2023, scappooseBBox)\n",
    "    scappooseMeanLST = scappooseLST.reduceRegion(\n",
    "        reducer=ee.Reducer.mean(),\n",
    "        geometry=scappooseBBox,\n",
    "        scale=30,\n",
    "        maxPixels=1e9\n",
    "    ).get('LST').getInfo()\n",
    "\n",
    "    # Calculate average LST for Portland for the month\n",
    "    portlandLST = calculateMonthlyAverageLST(month, 2013, 2023, portlandBBox)\n",
    "    portlandMeanLST = portlandLST.reduceRegion(\n",
    "        reducer=ee.Reducer.mean(),\n",
    "        geometry=portlandBBox,\n",
    "        scale=30,\n",
    "        maxPixels=1e9\n",
    "    ).get('LST').getInfo()\n",
    "\n",
    "    # Calculate deviations from the Scappoose mean\n",
    "    deviation = portlandLST.subtract(scappooseMeanLST)\n",
    "\n",
    "    # Visualization parameters for deviations\n",
    "    visParams = {\n",
    "        'min': -20,\n",
    "        'max': 20,\n",
    "        'palette': [\n",
    "            '0000FF', '5050FF', 'A0A0FF', 'FFFFFF', 'FFA0A0', 'FF5050', 'FF0000'\n",
    "        ]\n",
    "    }\n",
    "\n",
    "    # Add the deviation layer to the map\n",
    "    add_ee_layer(m, deviation, visParams, f'LST Deviation Month {month}')\n",
    "\n",
    "# Add layer control to the map\n",
    "folium.LayerControl().add_to(m)\n",
    "\n",
    "# Save the map as an HTML file\n",
    "m.save('mapLST/LST_Deviation_Map_Monthly.html')\n"
   ]
  }
 ],
 "metadata": {
  "kernelspec": {
   "display_name": "Python 3",
   "language": "python",
   "name": "python3"
  },
  "language_info": {
   "codemirror_mode": {
    "name": "ipython",
    "version": 3
   },
   "file_extension": ".py",
   "mimetype": "text/x-python",
   "name": "python",
   "nbconvert_exporter": "python",
   "pygments_lexer": "ipython3",
   "version": "3.11.9"
  }
 },
 "nbformat": 4,
 "nbformat_minor": 2
}
